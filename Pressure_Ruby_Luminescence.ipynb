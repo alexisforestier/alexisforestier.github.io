{
 "cells": [
  {
   "cell_type": "code",
   "execution_count": 1,
   "id": "08297af8",
   "metadata": {},
   "outputs": [
    {
     "data": {
      "application/vnd.jupyter.widget-view+json": {
       "model_id": "8691d883a56c4abca6171423eb9f8a9c",
       "version_major": 2,
       "version_minor": 0
      },
      "text/plain": [
       "interactive(children=(Text(value='write something', description='text'), Output()), _dom_classes=('widget-inte…"
      ]
     },
     "metadata": {},
     "output_type": "display_data"
    }
   ],
   "source": [
    "import numpy as np\n",
    "from ipywidgets import widgets, interact\n",
    "from IPython.display import display\n",
    "import nbinteract as nbi\n",
    "\n",
    "#l0W = widgets.FloatText(description='$\\lambda_0$ (nm)', value=694.25, step=0.1)\n",
    "#lW = widgets.FloatText(description='$\\lambda$ (nm)', value=694.25, step=0.1)\n",
    "#pW = widgets.FloatText(description='$P$ (GPa)', step=0.1)         \n",
    "#\n",
    "#print('Pressure Scale = Ruby2020 (https://doi.org/10.1080/08957959.2020.1791107)')\n",
    "#\n",
    "#@interact(l0=l0W, l=lW)\n",
    "#def pressure(l0, l):\n",
    "#    dl = l - l0\n",
    "#    p = 1870 * dl/l0 * (1 + 5.63 * dl/l0)\n",
    "#    pW.value = round(p, 2)\n",
    "#\n",
    "#display(pW)\n",
    "@interact()\n",
    "def test(text=\"write something\"):\n",
    "    print(text)\n",
    "    \n",
    "\n",
    "\n",
    "#nbi.publish('alexisforestier/alexisforestier.github.io/master', 'Pressure_Ruby_Luminescence.ipynb') "
   ]
  },
  {
   "cell_type": "code",
   "execution_count": null,
   "id": "18003322",
   "metadata": {},
   "outputs": [],
   "source": []
  }
 ],
 "metadata": {
  "kernelspec": {
   "display_name": "Python 3 (ipykernel)",
   "language": "python",
   "name": "python3"
  },
  "language_info": {
   "codemirror_mode": {
    "name": "ipython",
    "version": 3
   },
   "file_extension": ".py",
   "mimetype": "text/x-python",
   "name": "python",
   "nbconvert_exporter": "python",
   "pygments_lexer": "ipython3",
   "version": "3.9.2"
  },
  "toc": {
   "base_numbering": 1,
   "nav_menu": {},
   "number_sections": true,
   "sideBar": true,
   "skip_h1_title": false,
   "title_cell": "Table of Contents",
   "title_sidebar": "Contents",
   "toc_cell": false,
   "toc_position": {
    "height": "calc(100% - 180px)",
    "left": "10px",
    "top": "150px",
    "width": "384px"
   },
   "toc_section_display": true,
   "toc_window_display": true
  },
  "widgets": {
   "application/vnd.jupyter.widget-state+json": {
    "state": {
     "0d4fa24a14cf4f4d8d76cfd8b3e1d776": {
      "model_module": "@jupyter-widgets/output",
      "model_module_version": "1.0.0",
      "model_name": "OutputModel",
      "state": {
       "layout": "IPY_MODEL_15c4072c1338462ebfff4dacd9f7884f"
      }
     },
     "15c4072c1338462ebfff4dacd9f7884f": {
      "model_module": "@jupyter-widgets/base",
      "model_module_version": "1.2.0",
      "model_name": "LayoutModel",
      "state": {}
     },
     "185994423a904afd87873b6c65abf5e7": {
      "model_module": "@jupyter-widgets/controls",
      "model_module_version": "1.5.0",
      "model_name": "FloatTextModel",
      "state": {
       "description": "$\\lambda_0$ (nm)",
       "layout": "IPY_MODEL_67c3622d1e204b55a39bb15a8d9a12a5",
       "step": 0.1,
       "style": "IPY_MODEL_4b91256f361b4fdb9119b1fa0b51472e",
       "value": 694.25
      }
     },
     "1e35a9ba4bbc40c4805c525bf48a0a86": {
      "model_module": "@jupyter-widgets/controls",
      "model_module_version": "1.5.0",
      "model_name": "DescriptionStyleModel",
      "state": {
       "description_width": ""
      }
     },
     "22a1bf01b71647bea6c6664f05350f39": {
      "model_module": "@jupyter-widgets/controls",
      "model_module_version": "1.5.0",
      "model_name": "FloatTextModel",
      "state": {
       "description": "$\\lambda_0$ (nm)",
       "layout": "IPY_MODEL_882e7d61b9bc47ebb14e8971c06c8809",
       "step": 0.1,
       "style": "IPY_MODEL_26606c95381148b9813a8334fa336dd2",
       "value": 694.25
      }
     },
     "26606c95381148b9813a8334fa336dd2": {
      "model_module": "@jupyter-widgets/controls",
      "model_module_version": "1.5.0",
      "model_name": "DescriptionStyleModel",
      "state": {
       "description_width": ""
      }
     },
     "2a60e867fc2d47d8a089753d4111aba3": {
      "model_module": "@jupyter-widgets/base",
      "model_module_version": "1.2.0",
      "model_name": "LayoutModel",
      "state": {}
     },
     "2bbc857d257a430d8dbce95a5f2354b4": {
      "model_module": "@jupyter-widgets/controls",
      "model_module_version": "1.5.0",
      "model_name": "FloatTextModel",
      "state": {
       "description": "$P$ (GPa)",
       "layout": "IPY_MODEL_555ca385b31246f68bd16dec59071629",
       "step": 0.1,
       "style": "IPY_MODEL_dcba5e93692e429689c25a17a1e04dee"
      }
     },
     "30a1ffdb1a8d4593bdfbf73ab29e740f": {
      "model_module": "@jupyter-widgets/base",
      "model_module_version": "1.2.0",
      "model_name": "LayoutModel",
      "state": {}
     },
     "36a1c6e7845d473483748343a54c77fc": {
      "model_module": "@jupyter-widgets/controls",
      "model_module_version": "1.5.0",
      "model_name": "DescriptionStyleModel",
      "state": {
       "description_width": ""
      }
     },
     "3cd143be80004ed088cbb657836128bb": {
      "model_module": "@jupyter-widgets/base",
      "model_module_version": "1.2.0",
      "model_name": "LayoutModel",
      "state": {}
     },
     "3d1a0bcfb61742a7b8cd7dcad8883a92": {
      "model_module": "@jupyter-widgets/controls",
      "model_module_version": "1.5.0",
      "model_name": "FloatTextModel",
      "state": {
       "description": "$\\lambda$ (nm)",
       "layout": "IPY_MODEL_9f844edf1b73472abac93839c2228f19",
       "step": 0.1,
       "style": "IPY_MODEL_93d39d2896d44f9b902652d5416608f6",
       "value": 694.9
      }
     },
     "451cefdf1f89470c882d1d9b47f1c88c": {
      "model_module": "@jupyter-widgets/base",
      "model_module_version": "1.2.0",
      "model_name": "LayoutModel",
      "state": {}
     },
     "4b91256f361b4fdb9119b1fa0b51472e": {
      "model_module": "@jupyter-widgets/controls",
      "model_module_version": "1.5.0",
      "model_name": "DescriptionStyleModel",
      "state": {
       "description_width": ""
      }
     },
     "4d989ad932cb483582ff4575b83fc84e": {
      "model_module": "@jupyter-widgets/controls",
      "model_module_version": "1.5.0",
      "model_name": "FloatTextModel",
      "state": {
       "description": "$P$ (GPa)",
       "layout": "IPY_MODEL_8bb4384450a14488922f1228778ec71e",
       "step": 0.1,
       "style": "IPY_MODEL_36a1c6e7845d473483748343a54c77fc",
       "value": 1.76
      }
     },
     "555ca385b31246f68bd16dec59071629": {
      "model_module": "@jupyter-widgets/base",
      "model_module_version": "1.2.0",
      "model_name": "LayoutModel",
      "state": {}
     },
     "593b4ff230c74decb88861a34e7acc0f": {
      "model_module": "@jupyter-widgets/base",
      "model_module_version": "1.2.0",
      "model_name": "LayoutModel",
      "state": {}
     },
     "5ea2686216414be884e59049ba2507a5": {
      "model_module": "@jupyter-widgets/controls",
      "model_module_version": "1.5.0",
      "model_name": "VBoxModel",
      "state": {
       "_dom_classes": [
        "widget-interact"
       ],
       "children": [
        "IPY_MODEL_22a1bf01b71647bea6c6664f05350f39",
        "IPY_MODEL_6082c6e7e5b84f7890177b52c737a9fa",
        "IPY_MODEL_a9f5749484dc403089d89d1e41f1aba4"
       ],
       "layout": "IPY_MODEL_adca54c6446f4f73abf722b1b161693f"
      }
     },
     "6082c6e7e5b84f7890177b52c737a9fa": {
      "model_module": "@jupyter-widgets/controls",
      "model_module_version": "1.5.0",
      "model_name": "FloatTextModel",
      "state": {
       "description": "$\\lambda$ (nm)",
       "layout": "IPY_MODEL_3cd143be80004ed088cbb657836128bb",
       "step": 0.1,
       "style": "IPY_MODEL_e86db094dd8a4dddab46f5ba78c4bc71",
       "value": 694.25
      }
     },
     "61684d1efec4432e8f4219383675dd47": {
      "model_module": "@jupyter-widgets/controls",
      "model_module_version": "1.5.0",
      "model_name": "DescriptionStyleModel",
      "state": {
       "description_width": ""
      }
     },
     "6582e54e46954b2da5d83e2c9d89446a": {
      "model_module": "@jupyter-widgets/base",
      "model_module_version": "1.2.0",
      "model_name": "LayoutModel",
      "state": {}
     },
     "67c3622d1e204b55a39bb15a8d9a12a5": {
      "model_module": "@jupyter-widgets/base",
      "model_module_version": "1.2.0",
      "model_name": "LayoutModel",
      "state": {}
     },
     "882e7d61b9bc47ebb14e8971c06c8809": {
      "model_module": "@jupyter-widgets/base",
      "model_module_version": "1.2.0",
      "model_name": "LayoutModel",
      "state": {}
     },
     "8b33ddffdfc646118ad4a3a45496508b": {
      "model_module": "@jupyter-widgets/controls",
      "model_module_version": "1.5.0",
      "model_name": "FloatTextModel",
      "state": {
       "description": "$P$ (GPa)",
       "layout": "IPY_MODEL_451cefdf1f89470c882d1d9b47f1c88c",
       "step": 0.1,
       "style": "IPY_MODEL_b598a363762940fbb8e5356ac5783559"
      }
     },
     "8bb4384450a14488922f1228778ec71e": {
      "model_module": "@jupyter-widgets/base",
      "model_module_version": "1.2.0",
      "model_name": "LayoutModel",
      "state": {}
     },
     "8f73cfe855384fbcba37c0e9df878486": {
      "model_module": "@jupyter-widgets/controls",
      "model_module_version": "1.5.0",
      "model_name": "FloatTextModel",
      "state": {
       "description": "$\\lambda_0$ (nm)",
       "layout": "IPY_MODEL_fe58210917a143c595de3143bea1e3f1",
       "step": 0.1,
       "style": "IPY_MODEL_cb70eccd9ccd45f7a20d31762d5d3e00",
       "value": 694.25
      }
     },
     "907c75c0e73d44f9a64cc631ab94ed9d": {
      "model_module": "@jupyter-widgets/base",
      "model_module_version": "1.2.0",
      "model_name": "LayoutModel",
      "state": {}
     },
     "93d39d2896d44f9b902652d5416608f6": {
      "model_module": "@jupyter-widgets/controls",
      "model_module_version": "1.5.0",
      "model_name": "DescriptionStyleModel",
      "state": {
       "description_width": ""
      }
     },
     "9f844edf1b73472abac93839c2228f19": {
      "model_module": "@jupyter-widgets/base",
      "model_module_version": "1.2.0",
      "model_name": "LayoutModel",
      "state": {}
     },
     "a2feb33b82904514a905b3b0f57c9741": {
      "model_module": "@jupyter-widgets/base",
      "model_module_version": "1.2.0",
      "model_name": "LayoutModel",
      "state": {}
     },
     "a7551990f2e84c87b63f43f562bd8548": {
      "model_module": "@jupyter-widgets/controls",
      "model_module_version": "1.5.0",
      "model_name": "DescriptionStyleModel",
      "state": {
       "description_width": ""
      }
     },
     "a9f5749484dc403089d89d1e41f1aba4": {
      "model_module": "@jupyter-widgets/output",
      "model_module_version": "1.0.0",
      "model_name": "OutputModel",
      "state": {
       "layout": "IPY_MODEL_fdc2b2e4b3c64b56a54d833789b97f0e"
      }
     },
     "adca54c6446f4f73abf722b1b161693f": {
      "model_module": "@jupyter-widgets/base",
      "model_module_version": "1.2.0",
      "model_name": "LayoutModel",
      "state": {}
     },
     "b598a363762940fbb8e5356ac5783559": {
      "model_module": "@jupyter-widgets/controls",
      "model_module_version": "1.5.0",
      "model_name": "DescriptionStyleModel",
      "state": {
       "description_width": ""
      }
     },
     "bcc96904c75e4063bc394d6d99ff0e78": {
      "model_module": "@jupyter-widgets/controls",
      "model_module_version": "1.5.0",
      "model_name": "FloatTextModel",
      "state": {
       "description": "$\\lambda$ (nm)",
       "layout": "IPY_MODEL_593b4ff230c74decb88861a34e7acc0f",
       "step": 0.1,
       "style": "IPY_MODEL_ca0d53eb9fe145b3a0426a607f61c2eb",
       "value": 694.25
      }
     },
     "bfa66a9a97a4474daccb02ed1f40ac12": {
      "model_module": "@jupyter-widgets/controls",
      "model_module_version": "1.5.0",
      "model_name": "VBoxModel",
      "state": {
       "_dom_classes": [
        "widget-interact"
       ],
       "children": [
        "IPY_MODEL_e3e6a4cb9cab49128c50b5a0130b4449",
        "IPY_MODEL_bcc96904c75e4063bc394d6d99ff0e78",
        "IPY_MODEL_0d4fa24a14cf4f4d8d76cfd8b3e1d776"
       ],
       "layout": "IPY_MODEL_6582e54e46954b2da5d83e2c9d89446a"
      }
     },
     "c37aa5f14888420f81aba8c76e3eda95": {
      "model_module": "@jupyter-widgets/output",
      "model_module_version": "1.0.0",
      "model_name": "OutputModel",
      "state": {
       "layout": "IPY_MODEL_f07f8e7121c04e43ab1a35a33a6aa146"
      }
     },
     "c8ecbe126b8f4c8b96e565f41eaa5b38": {
      "model_module": "@jupyter-widgets/base",
      "model_module_version": "1.2.0",
      "model_name": "LayoutModel",
      "state": {}
     },
     "ca0d53eb9fe145b3a0426a607f61c2eb": {
      "model_module": "@jupyter-widgets/controls",
      "model_module_version": "1.5.0",
      "model_name": "DescriptionStyleModel",
      "state": {
       "description_width": ""
      }
     },
     "cb70eccd9ccd45f7a20d31762d5d3e00": {
      "model_module": "@jupyter-widgets/controls",
      "model_module_version": "1.5.0",
      "model_name": "DescriptionStyleModel",
      "state": {
       "description_width": ""
      }
     },
     "d6142e3cadc44d8bb96b7721625a8968": {
      "model_module": "@jupyter-widgets/controls",
      "model_module_version": "1.5.0",
      "model_name": "VBoxModel",
      "state": {
       "_dom_classes": [
        "widget-interact"
       ],
       "children": [
        "IPY_MODEL_185994423a904afd87873b6c65abf5e7",
        "IPY_MODEL_3d1a0bcfb61742a7b8cd7dcad8883a92",
        "IPY_MODEL_c37aa5f14888420f81aba8c76e3eda95"
       ],
       "layout": "IPY_MODEL_2a60e867fc2d47d8a089753d4111aba3"
      }
     },
     "d914ffde37944eb4b68cc2242e565125": {
      "model_module": "@jupyter-widgets/base",
      "model_module_version": "1.2.0",
      "model_name": "LayoutModel",
      "state": {}
     },
     "dcba5e93692e429689c25a17a1e04dee": {
      "model_module": "@jupyter-widgets/controls",
      "model_module_version": "1.5.0",
      "model_name": "DescriptionStyleModel",
      "state": {
       "description_width": ""
      }
     },
     "e26979bd2efe4827bcd3affea802611e": {
      "model_module": "@jupyter-widgets/output",
      "model_module_version": "1.0.0",
      "model_name": "OutputModel",
      "state": {
       "layout": "IPY_MODEL_30a1ffdb1a8d4593bdfbf73ab29e740f"
      }
     },
     "e3e6a4cb9cab49128c50b5a0130b4449": {
      "model_module": "@jupyter-widgets/controls",
      "model_module_version": "1.5.0",
      "model_name": "FloatTextModel",
      "state": {
       "description": "$\\lambda_0$ (nm)",
       "layout": "IPY_MODEL_907c75c0e73d44f9a64cc631ab94ed9d",
       "step": 0.1,
       "style": "IPY_MODEL_61684d1efec4432e8f4219383675dd47",
       "value": 694.25
      }
     },
     "e4a78c4ef08e47a89c36727249cd8a72": {
      "model_module": "@jupyter-widgets/controls",
      "model_module_version": "1.5.0",
      "model_name": "VBoxModel",
      "state": {
       "_dom_classes": [
        "widget-interact"
       ],
       "children": [
        "IPY_MODEL_8f73cfe855384fbcba37c0e9df878486",
        "IPY_MODEL_fda1b4853de447cb9d08b6ac9c348326",
        "IPY_MODEL_e26979bd2efe4827bcd3affea802611e"
       ],
       "layout": "IPY_MODEL_d914ffde37944eb4b68cc2242e565125"
      }
     },
     "e86db094dd8a4dddab46f5ba78c4bc71": {
      "model_module": "@jupyter-widgets/controls",
      "model_module_version": "1.5.0",
      "model_name": "DescriptionStyleModel",
      "state": {
       "description_width": ""
      }
     },
     "f07f8e7121c04e43ab1a35a33a6aa146": {
      "model_module": "@jupyter-widgets/base",
      "model_module_version": "1.2.0",
      "model_name": "LayoutModel",
      "state": {}
     },
     "f44e87421d65475f86fe951a7c91d6a3": {
      "model_module": "@jupyter-widgets/controls",
      "model_module_version": "1.5.0",
      "model_name": "FloatTextModel",
      "state": {
       "description": "$P$ (GPa)",
       "layout": "IPY_MODEL_a2feb33b82904514a905b3b0f57c9741",
       "step": 0.1,
       "style": "IPY_MODEL_a7551990f2e84c87b63f43f562bd8548"
      }
     },
     "fda1b4853de447cb9d08b6ac9c348326": {
      "model_module": "@jupyter-widgets/controls",
      "model_module_version": "1.5.0",
      "model_name": "FloatTextModel",
      "state": {
       "description": "$\\lambda$ (nm)",
       "layout": "IPY_MODEL_c8ecbe126b8f4c8b96e565f41eaa5b38",
       "step": 0.1,
       "style": "IPY_MODEL_1e35a9ba4bbc40c4805c525bf48a0a86",
       "value": 694.25
      }
     },
     "fdc2b2e4b3c64b56a54d833789b97f0e": {
      "model_module": "@jupyter-widgets/base",
      "model_module_version": "1.2.0",
      "model_name": "LayoutModel",
      "state": {}
     },
     "fe58210917a143c595de3143bea1e3f1": {
      "model_module": "@jupyter-widgets/base",
      "model_module_version": "1.2.0",
      "model_name": "LayoutModel",
      "state": {}
     }
    },
    "version_major": 2,
    "version_minor": 0
   }
  }
 },
 "nbformat": 4,
 "nbformat_minor": 5
}
